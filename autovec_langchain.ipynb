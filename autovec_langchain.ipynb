{
 "cells": [
  {
   "cell_type": "markdown",
   "id": "44480f12-3bd0-4fe9-9493-25bd6a2712bb",
   "metadata": {},
   "source": [
    "# Couchbase Capella AI Services Auto-Vectorization Tutorial\n",
    "\n",
    "This comprehensive tutorial demonstrates how to use Couchbase Capella's new AI Services auto-vectorization feature to automatically convert your data into vector embeddings and perform semantic search using LangChain.\n",
    "\n",
    "## 📋 What You'll Learn\n",
    "\n",
    "1. **Setting up Couchbase Capella** - Create account and cluster\n",
    "2. **AI Services Configuration** - Enable and configure auto-vectorization  \n",
    "3. **Data Upload & Processing** - Upload datasets or connect existing Couchbase data\n",
    "4. **Vectorization Workflow** - Step-by-step chunking, indexing, and vector creation\n",
    "5. **LangChain Integration** - Build semantic search applications\n",
    "\n",
    "## 🎯 Prerequisites\n",
    "\n",
    "- Basic knowledge of Python and Jupyter notebooks\n",
    "- Understanding of vector databases and embeddings (helpful but not required)\n",
    "- Internet connection for Capella setup\n",
    "\n",
    "---\n",
    "\n",
    "## 📚 Table of Contents\n",
    "\n",
    "1. [Capella Account Setup](#1-capella-account-setup)\n",
    "2. [AI Services Configuration](#2-ai-services-configuration)\n",
    "3. [Data Upload and Preparation](#3-data-upload-and-preparation)\n",
    "4. [Auto-Vectorization Process](#4-auto-vectorization-process)\n",
    "5. [LangChain Vector Search](#5-langchain-vector-search)\n",
    "6. [Advanced Use Cases](#6-advanced-use-cases)\n",
    "\n"
   ]
  },
  {
   "cell_type": "markdown",
   "id": "502eb13e",
   "metadata": {},
   "source": [
    "# 1. Capella Account Setup\n",
    "\n",
    "Before we can use AI Services auto-vectorization, you need to set up a Couchbase Capella account and create a cluster.\n",
    "\n",
    "## Step 1.1: Sign Up for Couchbase Capella\n",
    "\n",
    "1. **Visit Capella**: Go to [https://cloud.couchbase.com](https://cloud.couchbase.com)\n",
    "   <img src=\"img/login_.png\" width=500pt height=1000pt>\n",
    "2. **Sign In**: Click \"Sign in\" or create your free account by clicking \"Try free\", you can also sign in using google, github or using your organization's SSO.\n",
    "\n",
    "\n",
    "## Step 1.2: Create a New Cluster\n",
    "\n",
    "1. **Access Dashboard**: After logging in, you'll see the Capella dashboard\n",
    "2. **Create Cluster**: Click \"Create Cluster\"\n",
    "   <img src=\"img/create_cluster.png\" >\n",
    "4. **Choose Configuration**:\n",
    "   - **Cluster Configuration**: \n",
    "     - For development: Single node cluster\n",
    "     - For production: Multi-node with replicas\n",
    "     <img src=\"img/node_select_cluster_opt.png\">\n",
    "   - **Cloud Provider**: AWS, Azure, or GCP (AWS recommended for this tutorial)\n",
    "     <img src=\"img/cluster_cloud_config.png\">\n",
    "   - **Cluster Configuration**: Select number of nodes and their configuration, make sure to allow searching and eventing for using AutoVectorization.\n",
    "     <img src=\"img/cluster_no_nodes.png\">\n",
    "\n",
    "\n",
    "## Step 1.3: Configure Access Control \n",
    "\n",
    "1. **Access Control**: Navigate to the access control tab which is present in cluster settings as highlited in the image below:-\n",
    "    <img src=\"img/Access_control.png\">\n",
    "2. **Enter your details**:\n",
    "   - Cluster Access Name: `username`\n",
    "   - Password: Create a strong password\n",
    "    <img src=\"img/password_cluster.png\">\n",
    "\n"
   ]
  }
 ],
 "metadata": {
  "kernelspec": {
   "display_name": "Python 3 (ipykernel)",
   "language": "python",
   "name": "python3"
  },
  "language_info": {
   "codemirror_mode": {
    "name": "ipython",
    "version": 3
   },
   "file_extension": ".py",
   "mimetype": "text/x-python",
   "name": "python",
   "nbconvert_exporter": "python",
   "pygments_lexer": "ipython3",
   "version": "3.13.7"
  }
 },
 "nbformat": 4,
 "nbformat_minor": 5
}
